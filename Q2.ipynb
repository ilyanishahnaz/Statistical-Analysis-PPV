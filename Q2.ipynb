{
 "cells": [
  {
   "cell_type": "markdown",
   "metadata": {},
   "source": [
    "# Assignment 2\n",
    "- Ilyani Shahnaz binti Shukor (1201101761)\n",
    "- Anis Hazirah binti Mohamad Sabry (1211300373)\n",
    "- Nuha Awadah binti Mohd Yusof (1211303209)\n",
    "- Amierlyn binti Azman (1201101750)"
   ]
  },
  {
   "cell_type": "markdown",
   "metadata": {
    "id": "_m65zb92b1Zu"
   },
   "source": [
    "## Task 1 : Difference in Execution Time between 2 Computers\n",
    "\n"
   ]
  },
  {
   "cell_type": "markdown",
   "metadata": {
    "id": "jvV1pNn3cGZY"
   },
   "source": [
    "For the first task, we implemented the Haversine formula into a function to solve our code.The Haversine formula determines the *great-circle distance* between two points on a sphere with their longitudes and latitudes. We have used the latitudes and the longitudes from the sample csv data given and transferred the data into the formula. For this method, we have used the `pandas` library to load data from the csv files. The Haversine Formula is as follows : "
   ]
  },
  {
   "cell_type": "markdown",
   "metadata": {
    "id": "ybfNMRgzdHyc"
   },
   "source": [
    "![27240436-e9a459da-52d4-11e7-8f84-f96d0b312859.png](data:image/png;base64,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)"
   ]
  },
  {
   "cell_type": "code",
   "execution_count": 3,
   "metadata": {
    "colab": {
     "base_uri": "https://localhost:8080/",
     "height": 206
    },
    "id": "jCQ9ooxiJf-Y",
    "outputId": "107a7250-8c4d-406d-e2cf-5ab23f59a3b9"
   },
   "outputs": [
    {
     "data": {
      "text/html": [
       "<div>\n",
       "<style scoped>\n",
       "    .dataframe tbody tr th:only-of-type {\n",
       "        vertical-align: middle;\n",
       "    }\n",
       "\n",
       "    .dataframe tbody tr th {\n",
       "        vertical-align: top;\n",
       "    }\n",
       "\n",
       "    .dataframe thead th {\n",
       "        text-align: right;\n",
       "    }\n",
       "</style>\n",
       "<table border=\"1\" class=\"dataframe\">\n",
       "  <thead>\n",
       "    <tr style=\"text-align: right;\">\n",
       "      <th></th>\n",
       "      <th>People</th>\n",
       "      <th>p_lat</th>\n",
       "      <th>p_lon</th>\n",
       "      <th>PPV</th>\n",
       "      <th>v_lat</th>\n",
       "      <th>v_lon</th>\n",
       "      <th>distance</th>\n",
       "    </tr>\n",
       "  </thead>\n",
       "  <tbody>\n",
       "    <tr>\n",
       "      <th>0</th>\n",
       "      <td>0</td>\n",
       "      <td>2.868615</td>\n",
       "      <td>101.673326</td>\n",
       "      <td>0</td>\n",
       "      <td>2.864831</td>\n",
       "      <td>101.694876</td>\n",
       "      <td>2.4299</td>\n",
       "    </tr>\n",
       "    <tr>\n",
       "      <th>1</th>\n",
       "      <td>1</td>\n",
       "      <td>2.878383</td>\n",
       "      <td>101.607508</td>\n",
       "      <td>44</td>\n",
       "      <td>2.892748</td>\n",
       "      <td>101.595468</td>\n",
       "      <td>2.0831</td>\n",
       "    </tr>\n",
       "    <tr>\n",
       "      <th>2</th>\n",
       "      <td>2</td>\n",
       "      <td>2.871754</td>\n",
       "      <td>101.599514</td>\n",
       "      <td>44</td>\n",
       "      <td>2.892748</td>\n",
       "      <td>101.595468</td>\n",
       "      <td>2.3773</td>\n",
       "    </tr>\n",
       "    <tr>\n",
       "      <th>3</th>\n",
       "      <td>3</td>\n",
       "      <td>3.027363</td>\n",
       "      <td>101.652546</td>\n",
       "      <td>2</td>\n",
       "      <td>3.020707</td>\n",
       "      <td>101.650831</td>\n",
       "      <td>0.7642</td>\n",
       "    </tr>\n",
       "    <tr>\n",
       "      <th>4</th>\n",
       "      <td>4</td>\n",
       "      <td>2.997368</td>\n",
       "      <td>101.626043</td>\n",
       "      <td>19</td>\n",
       "      <td>3.010185</td>\n",
       "      <td>101.611975</td>\n",
       "      <td>2.1145</td>\n",
       "    </tr>\n",
       "  </tbody>\n",
       "</table>\n",
       "</div>"
      ],
      "text/plain": [
       "   People     p_lat       p_lon  PPV     v_lat       v_lon  distance\n",
       "0       0  2.868615  101.673326    0  2.864831  101.694876    2.4299\n",
       "1       1  2.878383  101.607508   44  2.892748  101.595468    2.0831\n",
       "2       2  2.871754  101.599514   44  2.892748  101.595468    2.3773\n",
       "3       3  3.027363  101.652546    2  3.020707  101.650831    0.7642\n",
       "4       4  2.997368  101.626043   19  3.010185  101.611975    2.1145"
      ]
     },
     "execution_count": 3,
     "metadata": {},
     "output_type": "execute_result"
    }
   ],
   "source": [
    "import pandas as pd\n",
    "\n",
    "ppl = pd.read_csv(\"people.csv\")\n",
    "ppv = pd.read_csv(\"ppv.csv\")\n",
    "\n",
    "from math import radians, cos, sin, asin, sqrt\n",
    "def haversine(lat1, long1, lat2, long2):\n",
    "\n",
    "    #Conversion of coordinates into radian\n",
    "    lat1, long1, lat2, long2 = map(radians, [lat1, long1, lat2, long2])\n",
    "    # Haversine Formula\n",
    "    dlon = long2 - long1 \n",
    "    dlat = lat2 - lat1 \n",
    "    a = sin(dlat/2)**2 + cos(lat1) * cos(lat2) * sin(dlon/2)**2\n",
    "    c = 2 * asin(sqrt(a)) \n",
    "    # Multiplied by the radius of the earth = 6371km\n",
    "    km = 6371* c\n",
    "    return km\n",
    "\n",
    "#Applying haversine formula to find the shortest distance from every person to all PPVs\n",
    "def nearest(lat,long):\n",
    "  distance = ppv.apply(lambda row: haversine(lat, long, row['Lat'], row['Lon']), axis=1)\n",
    "  return ppv.loc[distance.idxmin(),'PPV']\n",
    "\n",
    "#Adding an additional column (PPV) for each consecutive matches\n",
    "ppl['PPV'] = ppl.apply(lambda row: nearest(row['Lat'], row['Lon']),axis=1)\n",
    "\n",
    "#Merging both people.csv and ppv.csv with their designated latitudes and longitudes\n",
    "ppl = pd.merge(ppl, ppv[['PPV', 'Lat', 'Lon']], on='PPV', how='left')\n",
    "\n",
    "#Renaming the columns due to similar column naming, so that python does not get confused\n",
    "ppl = ppl.rename(columns = {'Lat_x':'p_lat','Lon_x': 'p_lon','Lat_y':'v_lat','Lon_y':'v_lon'})\n",
    "\n",
    "#Adding an additional column (distance) which shows the distance by applying the haversine formula\n",
    "ppl['distance'] =[haversine(ppl.p_lat[i], ppl.p_lon[i], ppl.v_lat[i], ppl.v_lon[i]) for i in range(len(ppl))]\n",
    "ppl['distance'] = ppl['distance'].round(decimals=4)\n",
    "\n",
    "ppl.head()"
   ]
  },
  {
   "cell_type": "markdown",
   "metadata": {
    "id": "M5MYpem4gTMi"
   },
   "source": [
    "### Statistical Analysis\n",
    "\n",
    "We have ran the code above on two different computers to analyze the execution time for 50 times. The specifications of the computers are as follows :\n",
    "\n",
    "*Computer 1 - Acer Aspire A515-52*\n",
    "\n",
    "> \n",
    "1.   RAM : 12GB\n",
    "2.   Hard Disk Type : KINGSTON RBUSNS8154P3256GJ1\n",
    "3.   CPU : Intel(R) Core(TM) i3-8145U CPU @ 2.10GHz   2.30 GHz\n",
    "\n",
    "\n",
    "*Computer 2 - HP ENVY X360 Convertible*\n",
    "1.   RAM : 8GB\n",
    "2.   Hard Disk Type : SAMSUNG MZVLW256HEHP-000H1\n",
    "3.   CPU : AMD Ryzen 5 25000U with Radeon Vega Mobile Gfx 2.00 GHz\n",
    "\n",
    "Consecutively, we are asked to measure the execution time for both of the computers for a total number of 50 runs. To do this, we implemented the while loop with a counter of 50 times. We have also imported the library `timeit` and `datatime` to act as our timer for more accurate measurement of execution time. The code below is used to measure the execution time for each runs. Then, the data is collected and stored in 'Task1.csv' file. To analyze the distribution difference, we have plotted a shaded density plot diagram using the collected data using `seaborn` and `matplotlib` libraries"
   ]
  },
  {
   "cell_type": "code",
   "execution_count": null,
   "metadata": {
    "id": "f9IJZc1D9jB4"
   },
   "outputs": [],
   "source": [
    "from timeit import default_timer as timer\n",
    "from datetime import timedelta\n",
    "\n",
    "count = 0\n",
    "while count < 50:\n",
    "\n",
    "  start = timer()\n",
    "\n",
    "  import pandas as pd\n",
    "  import numpy as np\n",
    "\n",
    "  ppl = pd.read_csv(\"people.csv\")\n",
    "  ppv = pd.read_csv(\"ppv.csv\")\n",
    "\n",
    "  from math import radians, cos, sin, asin, sqrt\n",
    "  def haversine(lat1, long1, lat2, long2):\n",
    "\n",
    "      #Conversion of coordinates into radian\n",
    "      lat1, long1, lat2, long2 = map(radians, [lat1, long1, lat2, long2])\n",
    "      # Haversine Formula\n",
    "      dlon = long2 - long1 \n",
    "      dlat = lat2 - lat1 \n",
    "      a = sin(dlat/2)**2 + cos(lat1) * cos(lat2) * sin(dlon/2)**2\n",
    "      c = 2 * asin(sqrt(a)) \n",
    "      # Multiplied by the radius of the earth = 6371km\n",
    "      km = 6371* c\n",
    "      return km\n",
    "\n",
    "  #Applying haversine formula to find the shortest distance from every person to all PPVs\n",
    "  def nearest(lat,long):\n",
    "    distance = ppv.apply(lambda row: haversine(lat, long, row['Lat'], row['Lon']), axis=1)\n",
    "    return ppv.loc[distance.idxmin(),'PPV']\n",
    "\n",
    "  #Adding an additional column (PPV) for each consecutive matches\n",
    "  ppl['PPV'] = ppl.apply(lambda row: nearest(row['Lat'], row['Lon']),axis=1)\n",
    "\n",
    "  #Merging both people.csv and ppv.csv with their designated latitudes and longitudes\n",
    "  ppl = pd.merge(ppl, ppv[['PPV', 'Lat', 'Lon']], on='PPV', how='left')\n",
    "\n",
    "  #Renaming the columns due to similar column naming, so that python does not get confused\n",
    "  ppl = ppl.rename(columns = {'Lat_x':'p_lat','Lon_x': 'p_lon','Lat_y':'v_lat','Lon_y':'v_lon'})\n",
    "\n",
    "  #Adding an additional column (distance) which shows the distance by applying the haversine formula\n",
    "  ppl['distance'] =[haversine(ppl.p_lat[i], ppl.p_lon[i], ppl.v_lat[i], ppl.v_lon[i]) for i in range(len(ppl))]\n",
    "  ppl['distance'] = ppl['distance'].round(decimals=4)\n",
    "\n",
    "  ppl.head()\n",
    "\n",
    "  end = timer()\n",
    "  print(timedelta(seconds=end-start))\n"
   ]
  },
  {
   "cell_type": "code",
   "execution_count": null,
   "metadata": {
    "colab": {
     "base_uri": "https://localhost:8080/",
     "height": 206
    },
    "id": "xjx9GxFu5ozT",
    "outputId": "cd13fbf7-8837-4dc6-f2ce-10fcc5628567"
   },
   "outputs": [
    {
     "data": {
      "text/html": [
       "\n",
       "  <div id=\"df-0a2408b9-c285-458c-a23b-648f60345559\">\n",
       "    <div class=\"colab-df-container\">\n",
       "      <div>\n",
       "<style scoped>\n",
       "    .dataframe tbody tr th:only-of-type {\n",
       "        vertical-align: middle;\n",
       "    }\n",
       "\n",
       "    .dataframe tbody tr th {\n",
       "        vertical-align: top;\n",
       "    }\n",
       "\n",
       "    .dataframe thead th {\n",
       "        text-align: right;\n",
       "    }\n",
       "</style>\n",
       "<table border=\"1\" class=\"dataframe\">\n",
       "  <thead>\n",
       "    <tr style=\"text-align: right;\">\n",
       "      <th></th>\n",
       "      <th>No.</th>\n",
       "      <th>Acer Aspire A515-52</th>\n",
       "      <th>HP ENVY X360 Convertible</th>\n",
       "    </tr>\n",
       "  </thead>\n",
       "  <tbody>\n",
       "    <tr>\n",
       "      <th>0</th>\n",
       "      <td>1</td>\n",
       "      <td>33.619412</td>\n",
       "      <td>28.802692</td>\n",
       "    </tr>\n",
       "    <tr>\n",
       "      <th>1</th>\n",
       "      <td>2</td>\n",
       "      <td>24.127343</td>\n",
       "      <td>32.041311</td>\n",
       "    </tr>\n",
       "    <tr>\n",
       "      <th>2</th>\n",
       "      <td>3</td>\n",
       "      <td>23.348929</td>\n",
       "      <td>29.272291</td>\n",
       "    </tr>\n",
       "    <tr>\n",
       "      <th>3</th>\n",
       "      <td>4</td>\n",
       "      <td>22.439090</td>\n",
       "      <td>39.508966</td>\n",
       "    </tr>\n",
       "    <tr>\n",
       "      <th>4</th>\n",
       "      <td>5</td>\n",
       "      <td>22.452001</td>\n",
       "      <td>29.719710</td>\n",
       "    </tr>\n",
       "  </tbody>\n",
       "</table>\n",
       "</div>\n",
       "      <button class=\"colab-df-convert\" onclick=\"convertToInteractive('df-0a2408b9-c285-458c-a23b-648f60345559')\"\n",
       "              title=\"Convert this dataframe to an interactive table.\"\n",
       "              style=\"display:none;\">\n",
       "        \n",
       "  <svg xmlns=\"http://www.w3.org/2000/svg\" height=\"24px\"viewBox=\"0 0 24 24\"\n",
       "       width=\"24px\">\n",
       "    <path d=\"M0 0h24v24H0V0z\" fill=\"none\"/>\n",
       "    <path d=\"M18.56 5.44l.94 2.06.94-2.06 2.06-.94-2.06-.94-.94-2.06-.94 2.06-2.06.94zm-11 1L8.5 8.5l.94-2.06 2.06-.94-2.06-.94L8.5 2.5l-.94 2.06-2.06.94zm10 10l.94 2.06.94-2.06 2.06-.94-2.06-.94-.94-2.06-.94 2.06-2.06.94z\"/><path d=\"M17.41 7.96l-1.37-1.37c-.4-.4-.92-.59-1.43-.59-.52 0-1.04.2-1.43.59L10.3 9.45l-7.72 7.72c-.78.78-.78 2.05 0 2.83L4 21.41c.39.39.9.59 1.41.59.51 0 1.02-.2 1.41-.59l7.78-7.78 2.81-2.81c.8-.78.8-2.07 0-2.86zM5.41 20L4 18.59l7.72-7.72 1.47 1.35L5.41 20z\"/>\n",
       "  </svg>\n",
       "      </button>\n",
       "      \n",
       "  <style>\n",
       "    .colab-df-container {\n",
       "      display:flex;\n",
       "      flex-wrap:wrap;\n",
       "      gap: 12px;\n",
       "    }\n",
       "\n",
       "    .colab-df-convert {\n",
       "      background-color: #E8F0FE;\n",
       "      border: none;\n",
       "      border-radius: 50%;\n",
       "      cursor: pointer;\n",
       "      display: none;\n",
       "      fill: #1967D2;\n",
       "      height: 32px;\n",
       "      padding: 0 0 0 0;\n",
       "      width: 32px;\n",
       "    }\n",
       "\n",
       "    .colab-df-convert:hover {\n",
       "      background-color: #E2EBFA;\n",
       "      box-shadow: 0px 1px 2px rgba(60, 64, 67, 0.3), 0px 1px 3px 1px rgba(60, 64, 67, 0.15);\n",
       "      fill: #174EA6;\n",
       "    }\n",
       "\n",
       "    [theme=dark] .colab-df-convert {\n",
       "      background-color: #3B4455;\n",
       "      fill: #D2E3FC;\n",
       "    }\n",
       "\n",
       "    [theme=dark] .colab-df-convert:hover {\n",
       "      background-color: #434B5C;\n",
       "      box-shadow: 0px 1px 3px 1px rgba(0, 0, 0, 0.15);\n",
       "      filter: drop-shadow(0px 1px 2px rgba(0, 0, 0, 0.3));\n",
       "      fill: #FFFFFF;\n",
       "    }\n",
       "  </style>\n",
       "\n",
       "      <script>\n",
       "        const buttonEl =\n",
       "          document.querySelector('#df-0a2408b9-c285-458c-a23b-648f60345559 button.colab-df-convert');\n",
       "        buttonEl.style.display =\n",
       "          google.colab.kernel.accessAllowed ? 'block' : 'none';\n",
       "\n",
       "        async function convertToInteractive(key) {\n",
       "          const element = document.querySelector('#df-0a2408b9-c285-458c-a23b-648f60345559');\n",
       "          const dataTable =\n",
       "            await google.colab.kernel.invokeFunction('convertToInteractive',\n",
       "                                                     [key], {});\n",
       "          if (!dataTable) return;\n",
       "\n",
       "          const docLinkHtml = 'Like what you see? Visit the ' +\n",
       "            '<a target=\"_blank\" href=https://colab.research.google.com/notebooks/data_table.ipynb>data table notebook</a>'\n",
       "            + ' to learn more about interactive tables.';\n",
       "          element.innerHTML = '';\n",
       "          dataTable['output_type'] = 'display_data';\n",
       "          await google.colab.output.renderOutput(dataTable, element);\n",
       "          const docLink = document.createElement('div');\n",
       "          docLink.innerHTML = docLinkHtml;\n",
       "          element.appendChild(docLink);\n",
       "        }\n",
       "      </script>\n",
       "    </div>\n",
       "  </div>\n",
       "  "
      ],
      "text/plain": [
       "   No.  Acer Aspire A515-52  HP ENVY X360 Convertible\n",
       "0    1            33.619412                 28.802692\n",
       "1    2            24.127343                 32.041311\n",
       "2    3            23.348929                 29.272291\n",
       "3    4            22.439090                 39.508966\n",
       "4    5            22.452001                 29.719710"
      ]
     },
     "execution_count": 19,
     "metadata": {},
     "output_type": "execute_result"
    }
   ],
   "source": [
    "Task1 = pd.read_csv('Task1.csv')\n",
    "#pd.set_option(\"max_rows\", None)\n",
    "Task1.head()"
   ]
  },
  {
   "cell_type": "code",
   "execution_count": null,
   "metadata": {
    "colab": {
     "base_uri": "https://localhost:8080/",
     "height": 295
    },
    "id": "C6heC2QJ8t3s",
    "outputId": "a7a492a3-6fea-4141-d41d-f87d4a9a0e78"
   },
   "outputs": [
    {
     "data": {
      "image/png": "[encoded data removed]",
      "text/plain": [
       "<Figure size 432x288 with 1 Axes>"
      ]
     },
     "metadata": {
      "needs_background": "light"
     },
     "output_type": "display_data"
    }
   ],
   "source": [
    "# libraries & dataset\n",
    "import seaborn as sns\n",
    "import matplotlib.pyplot as plt\n",
    "import pandas\n",
    "df = pandas.DataFrame(Task1, columns=['No.','Acer Aspire A515-52','HP ENVY X360 Convertible']) \n",
    " \n",
    "# plotting both distibutions on the same figure\n",
    "fig = sns.kdeplot(df['Acer Aspire A515-52'], shade=True, color=\"g\", label=\"Acer Aspire A515-52\", alpha=.7)\n",
    "fig = sns.kdeplot(df['HP ENVY X360 Convertible'], shade=True, color=\"b\", label=\"HP ENVY X360 Convertible\", alpha=.7)\n",
    "\n",
    "\n",
    "plt.title('Density Plot of the Execution Time between 2 Computers', fontsize=13)\n",
    "plt.xlabel('Time taken (s)')\n",
    "plt.ylabel('Density')\n",
    "plt.legend()\n",
    "plt.show()"
   ]
  },
  {
   "cell_type": "markdown",
   "metadata": {
    "id": "hlVDwGA9pdKv"
   },
   "source": [
    "## Task 2: Difference in Execution Time between 3 Different Methods"
   ]
  },
  {
   "cell_type": "markdown",
   "metadata": {
    "id": "uNBRQx1wCMOx"
   },
   "source": [
    "### Method 1 : Geodesic Distance\n",
    "\n",
    "This method uses the `pandas` library to access data from the given CSVs. To calculate the shortest distance between two latitude-longitude points, we have applied the Geodesic Distance by importing the function 'geopy.distance.geodesic' from `geopy` library"
   ]
  },
  {
   "cell_type": "markdown",
   "metadata": {
    "id": "Ql33sADyzCWw"
   },
   "source": [
    "**Packages** : `pandas`, `geopy`\n",
    "\n",
    "**Type of loop** : for-loop \n",
    "\n",
    "**Formula** : Geodesic Distance"
   ]
  },
  {
   "cell_type": "code",
   "execution_count": null,
   "metadata": {
    "id": "sQ60KaIbppFw"
   },
   "outputs": [],
   "source": [
    "import pandas as pd\n",
    "from geopy.distance import geodesic as gd\n",
    "\n",
    "ppl = pd.read_csv('people.csv')\n",
    "ppv = pd.read_csv('ppv.csv')\n",
    "\n",
    "df = pd.DataFrame(ppl, columns=['People','Lat','Lon'])\n",
    "df2 = pd.DataFrame(ppv, columns=['PPV', 'Lat','Lon'])\n",
    "\n",
    "\n",
    "for i, row in df.iterrows():\n",
    "    ppl = row.Lat, row.Lon\n",
    "    distances = []\n",
    "    for j, row2 in df2.iterrows():\n",
    "        ppv = row2.Lat, row2.Lon\n",
    "        distances.append(gd(ppl,ppv).km)\n",
    "    min_distance = min(distances)\n",
    "    min_index = distances.index(min_distance)\n",
    "    print(\"Person\", i, \"is closest to PPV\", min_index, \"by\", min_distance, \"km\")\n"
   ]
  },
  {
   "cell_type": "markdown",
   "metadata": {
    "id": "Vo-G_BfBvYO_"
   },
   "source": [
    "#### Timing Execution\n"
   ]
  },
  {
   "cell_type": "code",
   "execution_count": null,
   "metadata": {
    "id": "-y8gm6m2vfPf"
   },
   "outputs": [],
   "source": [
    "from timeit import default_timer as timer\n",
    "from datetime import timedelta\n",
    "\n",
    "count = 0\n",
    "while count < 50:\n",
    "\n",
    "  start = timer()\n",
    "  import pandas as pd\n",
    "  from geopy.distance import geodesic as gd\n",
    "\n",
    "  ppl = pd.read_csv('people.csv')\n",
    "  ppv = pd.read_csv('ppv.csv')\n",
    "\n",
    "  df = pd.DataFrame(ppl, columns=['People','Lat','Lon'])\n",
    "  df2 = pd.DataFrame(ppv, columns=['PPV', 'Lat','Lon'])\n",
    "\n",
    "  for i, row in df.iterrows():\n",
    "    ppl = row.Lat, row.Lon\n",
    "    distances = []\n",
    "    for j, row2 in df2.iterrows():\n",
    "        ppv = row2.Lat, row2.Lon\n",
    "        distances.append(gd(ppl,ppv).km)\n",
    "    min_distance = min(distances)\n",
    "    min_index = distances.index(min_distance)\n",
    "  \n",
    "  end = timer()\n",
    "  duration = timedelta(seconds=end-start)\n",
    "  print('Time Taken for', count, 'run: ', duration)\n",
    "  count += 1"
   ]
  },
  {
   "cell_type": "markdown",
   "metadata": {
    "id": "43FFSqyWfyHC"
   },
   "source": [
    "### Method 2 : Haversine Equation\n"
   ]
  },
  {
   "cell_type": "markdown",
   "metadata": {
    "id": "-6_wiswhv4Ix"
   },
   "source": [
    "We have again applied **the Haversine Equation** to calculate the shortest distance between each person to their closest PPV centers. However, this method differs from the original equation. Instead of defining a Haversine function, we have imported the `haversine` library to compute the calculation. \n",
    "\n",
    "This method differs from the above code in terms of the library used as the data reader. Instead of using `pandas`, we imported the `csv` library to read the CSV"
   ]
  },
  {
   "cell_type": "markdown",
   "metadata": {
    "id": "9x4utx2Cy8_6"
   },
   "source": [
    "**Packages** : `csv`, `haversine`\n",
    "\n",
    "**Type of loop** : for-loop\n",
    "\n",
    "**Formula** : Haversine Equation"
   ]
  },
  {
   "cell_type": "code",
   "execution_count": null,
   "metadata": {
    "id": "dsUUDpZBw1fq"
   },
   "outputs": [],
   "source": [
    "!pip install haversine"
   ]
  },
  {
   "cell_type": "code",
   "execution_count": null,
   "metadata": {
    "id": "XKAld05JdqTW"
   },
   "outputs": [],
   "source": [
    "#Using csv library\n",
    "#Using import haversine\n",
    "\n",
    "import csv\n",
    "import haversine as hs\n",
    "\n",
    "with open('people.csv','r') as csvfile:\n",
    "    dr = csv.DictReader(csvfile)\n",
    "    for row in dr:\n",
    "        csvfile = float(row['Lat']), float(row['Lon'])\n",
    "        distance = []\n",
    "        with open('ppv.csv','r') as csvfile2:\n",
    "          dr2 = csv.DictReader(csvfile2)\n",
    "          for row2 in dr2:\n",
    "            csvfile2 = float(row2['Lat']), float(row2['Lon'])\n",
    "            distance.append(hs.haversine(csvfile,csvfile2))\n",
    "        min_distance = min(distance)\n",
    "        min_index = distance.index(min_distance)\n",
    "        print(\"Person\",row['People'], \"is closest to PPV\", min_index, \"by\", min_distance, \"KM\")"
   ]
  },
  {
   "cell_type": "markdown",
   "metadata": {
    "id": "KLVpyjDpw7xH"
   },
   "source": [
    "#### Time Execution"
   ]
  },
  {
   "cell_type": "code",
   "execution_count": null,
   "metadata": {
    "id": "i76liXb2w9Et"
   },
   "outputs": [],
   "source": [
    "from timeit import default_timer as timer\n",
    "from datetime import timedelta\n",
    "\n",
    "count = 0\n",
    "while count < 50:\n",
    "  start = timer()\n",
    "\n",
    "  import csv\n",
    "  import haversine as hs\n",
    "\n",
    "  with open('people.csv','r') as csvfile:\n",
    "      dr = csv.DictReader(csvfile)\n",
    "      for row in dr:\n",
    "          csvfile = float(row['Lat']), float(row['Lon'])\n",
    "          distance = []\n",
    "          with open('ppv.csv','r') as csvfile2:\n",
    "            dr2 = csv.DictReader(csvfile2)\n",
    "            for row2 in dr2:\n",
    "              csvfile2 = float(row2['Lat']), float(row2['Lon'])\n",
    "              distance.append(hs.haversine(csvfile,csvfile2))\n",
    "          min_distance = min(distance)\n",
    "          min_index = distance.index(min_distance)\n",
    "          \n",
    "  end = timer()\n",
    "  duration = timedelta(seconds=end-start)\n",
    "  print('Time Taken for', count, 'run: ', duration)\n",
    "  count += 1\n"
   ]
  },
  {
   "cell_type": "markdown",
   "metadata": {
    "id": "z9i-vokQlM36"
   },
   "source": [
    "# Method 3 : Using Pythagoras Theorem \n",
    "\n",
    "For the third method, we implemented the Pythagoras formula into a function to solve our code. Pythagoras formula is much simpler in comparison to the Haversine formula since it does not consider the curvature of the earth. In short, it uses both the latitude and longitude from the CSV files as points in a 2-dimensional place and finding the shortest length to go from one point to the other. The method also use lambda function to apply the pythagoras theorem to each of the row in the file instead of using a for or a while loop. \n",
    "\n",
    "![Capture.PNG](data:image/png;base64,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)"
   ]
  },
  {
   "cell_type": "markdown",
   "metadata": {
    "id": "zBYluaq8yoLI"
   },
   "source": [
    "**Packages** : `pandas`, `math`\n",
    "\n",
    "**Type of loop** : Lambda function \n",
    "\n",
    "**Formula** : Pythagoras Theorem\n"
   ]
  },
  {
   "cell_type": "code",
   "execution_count": null,
   "metadata": {
    "colab": {
     "base_uri": "https://localhost:8080/",
     "height": 206
    },
    "id": "CMeoOEVXAYrr",
    "outputId": "b37a0315-e3c0-4598-e7f5-85c7e6203d1d"
   },
   "outputs": [
    {
     "data": {
      "text/html": [
       "\n",
       "  <div id=\"df-a7726169-da3e-423e-b825-683737b984c1\">\n",
       "    <div class=\"colab-df-container\">\n",
       "      <div>\n",
       "<style scoped>\n",
       "    .dataframe tbody tr th:only-of-type {\n",
       "        vertical-align: middle;\n",
       "    }\n",
       "\n",
       "    .dataframe tbody tr th {\n",
       "        vertical-align: top;\n",
       "    }\n",
       "\n",
       "    .dataframe thead th {\n",
       "        text-align: right;\n",
       "    }\n",
       "</style>\n",
       "<table border=\"1\" class=\"dataframe\">\n",
       "  <thead>\n",
       "    <tr style=\"text-align: right;\">\n",
       "      <th></th>\n",
       "      <th>People</th>\n",
       "      <th>People_Lat</th>\n",
       "      <th>People_Lon</th>\n",
       "      <th>PPV</th>\n",
       "      <th>PPV_Lat</th>\n",
       "      <th>PPV_Lon</th>\n",
       "      <th>distance</th>\n",
       "    </tr>\n",
       "  </thead>\n",
       "  <tbody>\n",
       "    <tr>\n",
       "      <th>0</th>\n",
       "      <td>0</td>\n",
       "      <td>2.868615</td>\n",
       "      <td>101.673326</td>\n",
       "      <td>0</td>\n",
       "      <td>2.864831</td>\n",
       "      <td>101.694876</td>\n",
       "      <td>0.021879</td>\n",
       "    </tr>\n",
       "    <tr>\n",
       "      <th>1</th>\n",
       "      <td>1</td>\n",
       "      <td>2.878383</td>\n",
       "      <td>101.607508</td>\n",
       "      <td>44</td>\n",
       "      <td>2.892748</td>\n",
       "      <td>101.595468</td>\n",
       "      <td>0.018744</td>\n",
       "    </tr>\n",
       "    <tr>\n",
       "      <th>2</th>\n",
       "      <td>2</td>\n",
       "      <td>2.871754</td>\n",
       "      <td>101.599514</td>\n",
       "      <td>44</td>\n",
       "      <td>2.892748</td>\n",
       "      <td>101.595468</td>\n",
       "      <td>0.021380</td>\n",
       "    </tr>\n",
       "    <tr>\n",
       "      <th>3</th>\n",
       "      <td>3</td>\n",
       "      <td>3.027363</td>\n",
       "      <td>101.652546</td>\n",
       "      <td>2</td>\n",
       "      <td>3.020707</td>\n",
       "      <td>101.650831</td>\n",
       "      <td>0.006873</td>\n",
       "    </tr>\n",
       "    <tr>\n",
       "      <th>4</th>\n",
       "      <td>4</td>\n",
       "      <td>2.997368</td>\n",
       "      <td>101.626043</td>\n",
       "      <td>19</td>\n",
       "      <td>3.010185</td>\n",
       "      <td>101.611975</td>\n",
       "      <td>0.019030</td>\n",
       "    </tr>\n",
       "  </tbody>\n",
       "</table>\n",
       "</div>\n",
       "      <button class=\"colab-df-convert\" onclick=\"convertToInteractive('df-a7726169-da3e-423e-b825-683737b984c1')\"\n",
       "              title=\"Convert this dataframe to an interactive table.\"\n",
       "              style=\"display:none;\">\n",
       "        \n",
       "  <svg xmlns=\"http://www.w3.org/2000/svg\" height=\"24px\"viewBox=\"0 0 24 24\"\n",
       "       width=\"24px\">\n",
       "    <path d=\"M0 0h24v24H0V0z\" fill=\"none\"/>\n",
       "    <path d=\"M18.56 5.44l.94 2.06.94-2.06 2.06-.94-2.06-.94-.94-2.06-.94 2.06-2.06.94zm-11 1L8.5 8.5l.94-2.06 2.06-.94-2.06-.94L8.5 2.5l-.94 2.06-2.06.94zm10 10l.94 2.06.94-2.06 2.06-.94-2.06-.94-.94-2.06-.94 2.06-2.06.94z\"/><path d=\"M17.41 7.96l-1.37-1.37c-.4-.4-.92-.59-1.43-.59-.52 0-1.04.2-1.43.59L10.3 9.45l-7.72 7.72c-.78.78-.78 2.05 0 2.83L4 21.41c.39.39.9.59 1.41.59.51 0 1.02-.2 1.41-.59l7.78-7.78 2.81-2.81c.8-.78.8-2.07 0-2.86zM5.41 20L4 18.59l7.72-7.72 1.47 1.35L5.41 20z\"/>\n",
       "  </svg>\n",
       "      </button>\n",
       "      \n",
       "  <style>\n",
       "    .colab-df-container {\n",
       "      display:flex;\n",
       "      flex-wrap:wrap;\n",
       "      gap: 12px;\n",
       "    }\n",
       "\n",
       "    .colab-df-convert {\n",
       "      background-color: #E8F0FE;\n",
       "      border: none;\n",
       "      border-radius: 50%;\n",
       "      cursor: pointer;\n",
       "      display: none;\n",
       "      fill: #1967D2;\n",
       "      height: 32px;\n",
       "      padding: 0 0 0 0;\n",
       "      width: 32px;\n",
       "    }\n",
       "\n",
       "    .colab-df-convert:hover {\n",
       "      background-color: #E2EBFA;\n",
       "      box-shadow: 0px 1px 2px rgba(60, 64, 67, 0.3), 0px 1px 3px 1px rgba(60, 64, 67, 0.15);\n",
       "      fill: #174EA6;\n",
       "    }\n",
       "\n",
       "    [theme=dark] .colab-df-convert {\n",
       "      background-color: #3B4455;\n",
       "      fill: #D2E3FC;\n",
       "    }\n",
       "\n",
       "    [theme=dark] .colab-df-convert:hover {\n",
       "      background-color: #434B5C;\n",
       "      box-shadow: 0px 1px 3px 1px rgba(0, 0, 0, 0.15);\n",
       "      filter: drop-shadow(0px 1px 2px rgba(0, 0, 0, 0.3));\n",
       "      fill: #FFFFFF;\n",
       "    }\n",
       "  </style>\n",
       "\n",
       "      <script>\n",
       "        const buttonEl =\n",
       "          document.querySelector('#df-a7726169-da3e-423e-b825-683737b984c1 button.colab-df-convert');\n",
       "        buttonEl.style.display =\n",
       "          google.colab.kernel.accessAllowed ? 'block' : 'none';\n",
       "\n",
       "        async function convertToInteractive(key) {\n",
       "          const element = document.querySelector('#df-a7726169-da3e-423e-b825-683737b984c1');\n",
       "          const dataTable =\n",
       "            await google.colab.kernel.invokeFunction('convertToInteractive',\n",
       "                                                     [key], {});\n",
       "          if (!dataTable) return;\n",
       "\n",
       "          const docLinkHtml = 'Like what you see? Visit the ' +\n",
       "            '<a target=\"_blank\" href=https://colab.research.google.com/notebooks/data_table.ipynb>data table notebook</a>'\n",
       "            + ' to learn more about interactive tables.';\n",
       "          element.innerHTML = '';\n",
       "          dataTable['output_type'] = 'display_data';\n",
       "          await google.colab.output.renderOutput(dataTable, element);\n",
       "          const docLink = document.createElement('div');\n",
       "          docLink.innerHTML = docLinkHtml;\n",
       "          element.appendChild(docLink);\n",
       "        }\n",
       "      </script>\n",
       "    </div>\n",
       "  </div>\n",
       "  "
      ],
      "text/plain": [
       "   People  People_Lat  People_Lon  PPV   PPV_Lat     PPV_Lon  distance\n",
       "0       0    2.868615  101.673326    0  2.864831  101.694876  0.021879\n",
       "1       1    2.878383  101.607508   44  2.892748  101.595468  0.018744\n",
       "2       2    2.871754  101.599514   44  2.892748  101.595468  0.021380\n",
       "3       3    3.027363  101.652546    2  3.020707  101.650831  0.006873\n",
       "4       4    2.997368  101.626043   19  3.010185  101.611975  0.019030"
      ]
     },
     "execution_count": 12,
     "metadata": {},
     "output_type": "execute_result"
    }
   ],
   "source": [
    "import pandas as pd\n",
    "import math\n",
    "\n",
    "ppl = pd.read_csv(\"people.csv\")\n",
    "ppv = pd.read_csv(\"ppv.csv\")\n",
    "\n",
    "## pythagoras theorem function\n",
    "def pythagoras(lat1,lon1,lat2,lon2):\n",
    "    a2 = float(lat2 - lat1) ** 2\n",
    "    b2 = float(lon2 - lon1) ** 2\n",
    "    c2 = a2 + b2\n",
    "    return math.sqrt(c2)\n",
    "\n",
    "## nearest function - using panda idxmin built in to choose the min distance with column ppv\n",
    "def nearest(lat,long):\n",
    "    distance = ppv.apply(lambda row: pythagoras(lat, long, row['Lat'], row['Lon']), axis=1) # apply - apply the csv with what, lambda row/col - applying each row with which function\n",
    "    return ppv.loc[distance.idxmin(),'PPV']  # .loc - selecting the row, picking the minimum using idxmin - under pandas df\n",
    "\n",
    "## the main code\n",
    "ppl['PPV'] = ppl.apply(lambda row: nearest(row['Lat'], row['Lon']),axis=1) ## looping using the nearest function\n",
    "\n",
    "\n",
    "ppl = pd.merge(ppl, ppv[['PPV', 'Lat', 'Lon']], on='PPV', how='left')\n",
    "ppl = ppl.rename(columns = {'Lat_x':'People_Lat','Lon_x': 'People_Lon','Lat_y':'PPV_Lat','Lon_y':'PPV_Lon'})\n",
    "ppl['distance'] =[pythagoras(ppl.People_Lat[i], ppl.People_Lon[i], ppl.PPV_Lat[i], ppl.PPV_Lon[i]) for i in range(len(ppl))]\n",
    "\n",
    "ppl.head()\n"
   ]
  },
  {
   "cell_type": "markdown",
   "metadata": {
    "id": "xuz4c1RlxxtH"
   },
   "source": [
    "#### Time Execution"
   ]
  },
  {
   "cell_type": "code",
   "execution_count": null,
   "metadata": {
    "id": "SVCACoiEx0xX"
   },
   "outputs": [],
   "source": [
    "from timeit import default_timer as timer\n",
    "from datetime import timedelta\n",
    "\n",
    "count = 0\n",
    "while count < 50:\n",
    "\n",
    "  start = timer()\n",
    "  import pandas as pd\n",
    "  import numpy as np\n",
    "  import math\n",
    "\n",
    "  ppl = pd.read_csv(\"people.csv\")\n",
    "  ppv = pd.read_csv(\"ppv.csv\")\n",
    "\n",
    "  ## pythagoras theorem function\n",
    "  def pythagoras(lat1,lon1,lat2,lon2):\n",
    "      a2 = float(lat2 - lat1) ** 2\n",
    "      b2 = float(lon2 - lon1) ** 2\n",
    "      c2 = a2 + b2\n",
    "      return math.sqrt(c2)\n",
    "\n",
    "  ## nearest function - using panda idxmin built in to choose the min distance with column ppv\n",
    "  def nearest(lat,long):\n",
    "      distance = ppv.apply(lambda row: pythagoras(lat, long, row['Lat'], row['Lon']), axis=1) # apply - apply the csv with what, lambda row/col - applying each row with which function\n",
    "      return ppv.loc[distance.idxmin(),'PPV']  # .loc - selecting the row, picking the minimum using idxmin - under pandas df\n",
    "\n",
    "  ## the main code\n",
    "  ppl['PPV'] = ppl.apply(lambda row: nearest(row['Lat'], row['Lon']),axis=1) ## looping using the nearest function\n",
    "\n",
    "\n",
    "  ppl = pd.merge(ppl, ppv[['PPV', 'Lat', 'Lon']], on='PPV', how='left')\n",
    "  ppl = ppl.rename(columns = {'Lat_x':'People_Lat','Lon_x': 'People_Lon','Lat_y':'PPV_Lat','Lon_y':'PPV_Lon'})\n",
    "  ppl['distance'] =[pythagoras(ppl.People_Lat[i], ppl.People_Lon[i], ppl.PPV_Lat[i], ppl.PPV_Lon[i]) for i in range(len(ppl))]\n",
    "\n",
    "  end = timer()\n",
    "  duration = timedelta(seconds=end-start)\n",
    "  print('Time Taken for', count, 'run: ', duration)\n",
    "  count += 1"
   ]
  },
  {
   "cell_type": "markdown",
   "metadata": {
    "id": "2pEKowG2zZas"
   },
   "source": [
    "## Statistical Analysis \n",
    "\n",
    "Computer Specifications\n",
    "*   RAM = 12GB\n",
    "*   Hard Disk = Toshiba THNSNJ128G8NU\n",
    "*   CPU = Intel(R) Core(TM) i7-6700HQ CPU @ 2.60GHz \n",
    "\n",
    "We have used the same computer to execute the codes above and have tabulated the date into 'Task2.csv' file. Then, a shaded density plot is graphed to show the distribution difference between the time taken for the 3 different methods.\n",
    "\n",
    "\n",
    "\n"
   ]
  },
  {
   "cell_type": "code",
   "execution_count": null,
   "metadata": {
    "colab": {
     "base_uri": "https://localhost:8080/",
     "height": 206
    },
    "id": "jvyQw5SL0Rtr",
    "outputId": "1135a1ee-887f-46fc-cbd0-682725c75e06"
   },
   "outputs": [
    {
     "data": {
      "text/html": [
       "\n",
       "  <div id=\"df-d8c5137b-7407-452c-b2a0-823e717e653d\">\n",
       "    <div class=\"colab-df-container\">\n",
       "      <div>\n",
       "<style scoped>\n",
       "    .dataframe tbody tr th:only-of-type {\n",
       "        vertical-align: middle;\n",
       "    }\n",
       "\n",
       "    .dataframe tbody tr th {\n",
       "        vertical-align: top;\n",
       "    }\n",
       "\n",
       "    .dataframe thead th {\n",
       "        text-align: right;\n",
       "    }\n",
       "</style>\n",
       "<table border=\"1\" class=\"dataframe\">\n",
       "  <thead>\n",
       "    <tr style=\"text-align: right;\">\n",
       "      <th></th>\n",
       "      <th>No.</th>\n",
       "      <th>Geodesic</th>\n",
       "      <th>Haversine</th>\n",
       "      <th>Pythagoras</th>\n",
       "    </tr>\n",
       "  </thead>\n",
       "  <tbody>\n",
       "    <tr>\n",
       "      <th>0</th>\n",
       "      <td>1</td>\n",
       "      <td>332.496502</td>\n",
       "      <td>7.661263</td>\n",
       "      <td>22.877216</td>\n",
       "    </tr>\n",
       "    <tr>\n",
       "      <th>1</th>\n",
       "      <td>2</td>\n",
       "      <td>334.291717</td>\n",
       "      <td>7.420203</td>\n",
       "      <td>22.658245</td>\n",
       "    </tr>\n",
       "    <tr>\n",
       "      <th>2</th>\n",
       "      <td>3</td>\n",
       "      <td>330.808320</td>\n",
       "      <td>7.459636</td>\n",
       "      <td>24.591534</td>\n",
       "    </tr>\n",
       "    <tr>\n",
       "      <th>3</th>\n",
       "      <td>4</td>\n",
       "      <td>329.191608</td>\n",
       "      <td>7.477269</td>\n",
       "      <td>23.051208</td>\n",
       "    </tr>\n",
       "    <tr>\n",
       "      <th>4</th>\n",
       "      <td>5</td>\n",
       "      <td>329.069511</td>\n",
       "      <td>8.621125</td>\n",
       "      <td>22.642835</td>\n",
       "    </tr>\n",
       "  </tbody>\n",
       "</table>\n",
       "</div>\n",
       "      <button class=\"colab-df-convert\" onclick=\"convertToInteractive('df-d8c5137b-7407-452c-b2a0-823e717e653d')\"\n",
       "              title=\"Convert this dataframe to an interactive table.\"\n",
       "              style=\"display:none;\">\n",
       "        \n",
       "  <svg xmlns=\"http://www.w3.org/2000/svg\" height=\"24px\"viewBox=\"0 0 24 24\"\n",
       "       width=\"24px\">\n",
       "    <path d=\"M0 0h24v24H0V0z\" fill=\"none\"/>\n",
       "    <path d=\"M18.56 5.44l.94 2.06.94-2.06 2.06-.94-2.06-.94-.94-2.06-.94 2.06-2.06.94zm-11 1L8.5 8.5l.94-2.06 2.06-.94-2.06-.94L8.5 2.5l-.94 2.06-2.06.94zm10 10l.94 2.06.94-2.06 2.06-.94-2.06-.94-.94-2.06-.94 2.06-2.06.94z\"/><path d=\"M17.41 7.96l-1.37-1.37c-.4-.4-.92-.59-1.43-.59-.52 0-1.04.2-1.43.59L10.3 9.45l-7.72 7.72c-.78.78-.78 2.05 0 2.83L4 21.41c.39.39.9.59 1.41.59.51 0 1.02-.2 1.41-.59l7.78-7.78 2.81-2.81c.8-.78.8-2.07 0-2.86zM5.41 20L4 18.59l7.72-7.72 1.47 1.35L5.41 20z\"/>\n",
       "  </svg>\n",
       "      </button>\n",
       "      \n",
       "  <style>\n",
       "    .colab-df-container {\n",
       "      display:flex;\n",
       "      flex-wrap:wrap;\n",
       "      gap: 12px;\n",
       "    }\n",
       "\n",
       "    .colab-df-convert {\n",
       "      background-color: #E8F0FE;\n",
       "      border: none;\n",
       "      border-radius: 50%;\n",
       "      cursor: pointer;\n",
       "      display: none;\n",
       "      fill: #1967D2;\n",
       "      height: 32px;\n",
       "      padding: 0 0 0 0;\n",
       "      width: 32px;\n",
       "    }\n",
       "\n",
       "    .colab-df-convert:hover {\n",
       "      background-color: #E2EBFA;\n",
       "      box-shadow: 0px 1px 2px rgba(60, 64, 67, 0.3), 0px 1px 3px 1px rgba(60, 64, 67, 0.15);\n",
       "      fill: #174EA6;\n",
       "    }\n",
       "\n",
       "    [theme=dark] .colab-df-convert {\n",
       "      background-color: #3B4455;\n",
       "      fill: #D2E3FC;\n",
       "    }\n",
       "\n",
       "    [theme=dark] .colab-df-convert:hover {\n",
       "      background-color: #434B5C;\n",
       "      box-shadow: 0px 1px 3px 1px rgba(0, 0, 0, 0.15);\n",
       "      filter: drop-shadow(0px 1px 2px rgba(0, 0, 0, 0.3));\n",
       "      fill: #FFFFFF;\n",
       "    }\n",
       "  </style>\n",
       "\n",
       "      <script>\n",
       "        const buttonEl =\n",
       "          document.querySelector('#df-d8c5137b-7407-452c-b2a0-823e717e653d button.colab-df-convert');\n",
       "        buttonEl.style.display =\n",
       "          google.colab.kernel.accessAllowed ? 'block' : 'none';\n",
       "\n",
       "        async function convertToInteractive(key) {\n",
       "          const element = document.querySelector('#df-d8c5137b-7407-452c-b2a0-823e717e653d');\n",
       "          const dataTable =\n",
       "            await google.colab.kernel.invokeFunction('convertToInteractive',\n",
       "                                                     [key], {});\n",
       "          if (!dataTable) return;\n",
       "\n",
       "          const docLinkHtml = 'Like what you see? Visit the ' +\n",
       "            '<a target=\"_blank\" href=https://colab.research.google.com/notebooks/data_table.ipynb>data table notebook</a>'\n",
       "            + ' to learn more about interactive tables.';\n",
       "          element.innerHTML = '';\n",
       "          dataTable['output_type'] = 'display_data';\n",
       "          await google.colab.output.renderOutput(dataTable, element);\n",
       "          const docLink = document.createElement('div');\n",
       "          docLink.innerHTML = docLinkHtml;\n",
       "          element.appendChild(docLink);\n",
       "        }\n",
       "      </script>\n",
       "    </div>\n",
       "  </div>\n",
       "  "
      ],
      "text/plain": [
       "   No.    Geodesic  Haversine  Pythagoras\n",
       "0    1  332.496502   7.661263   22.877216\n",
       "1    2  334.291717   7.420203   22.658245\n",
       "2    3  330.808320   7.459636   24.591534\n",
       "3    4  329.191608   7.477269   23.051208\n",
       "4    5  329.069511   8.621125   22.642835"
      ]
     },
     "execution_count": 13,
     "metadata": {},
     "output_type": "execute_result"
    }
   ],
   "source": [
    "Task2 = pd.read_csv('Task2.csv')\n",
    "#pd.set_option(\"max_rows\", None)\n",
    "Task2.head()"
   ]
  },
  {
   "cell_type": "code",
   "execution_count": null,
   "metadata": {
    "colab": {
     "base_uri": "https://localhost:8080/",
     "height": 384
    },
    "id": "Ao7DG_sB0Lwn",
    "outputId": "7e65a725-5435-4afb-99e8-ca3baf52abf3"
   },
   "outputs": [
    {
     "data": {
      "image/png": "[encoded data removed]",
      "text/plain": [
       "<Figure size 720x400 with 1 Axes>"
      ]
     },
     "metadata": {
      "needs_background": "light"
     },
     "output_type": "display_data"
    }
   ],
   "source": [
    "# libraries & dataset\n",
    "import seaborn as sns\n",
    "import matplotlib.pyplot as plt\n",
    "import pandas\n",
    "df = pandas.DataFrame(Task2, columns=['No.','Geodesic','Haversine','Pythagoras']) \n",
    " \n",
    "# plotting both distibutions on the same figure\n",
    "fig = sns.kdeplot(df['Geodesic'], shade=True, color=\"r\", label=\"Geodesic\", alpha=.7)\n",
    "fig = sns.kdeplot(df['Haversine'], shade=True, color=\"b\", label=\"Haversine\", alpha=.7)\n",
    "fig = sns.kdeplot(df['Pythagoras'], shade=True, color=\"deeppink\", label=\"Pythagoras\", alpha=.7)\n",
    "\n",
    "\n",
    "plt.title('Density Plot of the Execution Time between 3 Methods', fontsize=13)\n",
    "plt.xlabel('Time taken (s)')\n",
    "plt.ylabel('Density')\n",
    "plt.legend()\n",
    "plt.show()"
   ]
  }
 ],
 "metadata": {
  "colab": {
   "collapsed_sections": [],
   "name": "Q2.ipynb",
   "provenance": []
  },
  "kernelspec": {
   "display_name": "Python 3 (ipykernel)",
   "language": "python",
   "name": "python3"
  },
  "language_info": {
   "codemirror_mode": {
    "name": "ipython",
    "version": 3
   },
   "file_extension": ".py",
   "mimetype": "text/x-python",
   "name": "python",
   "nbconvert_exporter": "python",
   "pygments_lexer": "ipython3",
   "version": "3.9.12"
  }
 },
 "nbformat": 4,
 "nbformat_minor": 1
}
